from cloudant.client import Cloudant

client = Cloudant.iam("d0963b0d-6a01-4b4d-ac1b-78ccef67e303-bluemix", "vRzNCfpRbo2Bf4UidNaXBfP-vWRHGp5vr9at0BfDs7sE", connect = True)

my_database = client.create_database('diabetic-retinopathy')